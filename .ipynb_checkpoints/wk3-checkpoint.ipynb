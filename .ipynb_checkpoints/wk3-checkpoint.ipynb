{
 "cells": [
  {
   "cell_type": "code",
   "execution_count": 1,
   "metadata": {},
   "outputs": [],
   "source": [
    "import os\n",
    "import pandas as pd"
   ]
  },
  {
   "cell_type": "code",
   "execution_count": 5,
   "metadata": {},
   "outputs": [],
   "source": [
    "# setup file location and paths for the 2 csv files\n",
    "path = r'C:\\Users\\Eric\\Desktop\\School\\CS689\\wk3'\n",
    "\n",
    "ship = 'ShipLogbookID'\n",
    "ship_file = os.path.join(path, ship + '.csv')\n",
    "\n",
    "trip = 'CLIWOC15'\n",
    "trip_file = os.path.join(path, trip + '.csv')"
   ]
  },
  {
   "cell_type": "code",
   "execution_count": 7,
   "metadata": {},
   "outputs": [
    {
     "name": "stderr",
     "output_type": "stream",
     "text": [
      "C:\\Users\\Eric\\AppData\\Local\\Continuum\\anaconda3\\lib\\site-packages\\IPython\\core\\interactiveshell.py:3058: DtypeWarning: Columns (5,6,7,8,11,13,18,19,23,24,25,26,28,29,30,34,35,38,43,44,46,73,77,81,82,84,85,87,88,94,96,97,98,99,111,114,116,119,120,122,124,125,127,129,131,133,135,137,140) have mixed types. Specify dtype option on import or set low_memory=False.\n",
      "  interactivity=interactivity, compiler=compiler, result=result)\n"
     ]
    }
   ],
   "source": [
    "# read csv files into dataframes\n",
    "ship_df = pd.read_csv(ship_file)\n",
    "trip_df = pd.read_csv(trip_file)"
   ]
  },
  {
   "cell_type": "code",
   "execution_count": 19,
   "metadata": {},
   "outputs": [
    {
     "data": {
      "text/plain": [
       "(1873, 4)"
      ]
     },
     "execution_count": 19,
     "metadata": {},
     "output_type": "execute_result"
    }
   ],
   "source": [
    "# shape of the ship dataframe is 1873 rows and 4 columns\n",
    "ship_df.shape"
   ]
  },
  {
   "cell_type": "code",
   "execution_count": 18,
   "metadata": {},
   "outputs": [
    {
     "data": {
      "text/plain": [
       "(280280, 141)"
      ]
     },
     "execution_count": 18,
     "metadata": {},
     "output_type": "execute_result"
    }
   ],
   "source": [
    "# shape of the trip dataframe is 280280 rows and 141 columns\n",
    "trip_df.shape"
   ]
  },
  {
   "cell_type": "code",
   "execution_count": 21,
   "metadata": {},
   "outputs": [],
   "source": [
    "ship_df.drop_duplicates(subset=['ShipName', 'LogbookIdent'], keep='first', inplace=True)"
   ]
  },
  {
   "cell_type": "code",
   "execution_count": 22,
   "metadata": {},
   "outputs": [
    {
     "data": {
      "text/plain": [
       "(1852, 4)"
      ]
     },
     "execution_count": 22,
     "metadata": {},
     "output_type": "execute_result"
    }
   ],
   "source": [
    "# shape of the ship dataframe is 1873 rows and 4 columns\n",
    "ship_df.shape"
   ]
  },
  {
   "cell_type": "code",
   "execution_count": 25,
   "metadata": {},
   "outputs": [],
   "source": [
    "# crete a left merged dataframe between trip and ship datafrmaes on the \n",
    "# ShipName and LogbookIdent columns\n",
    "joined_set = trip_df.merge(ship_df, how='left', on=['ShipName', 'LogbookIdent'], indicator=True)"
   ]
  },
  {
   "cell_type": "code",
   "execution_count": 31,
   "metadata": {},
   "outputs": [
    {
     "data": {
      "text/html": [
       "<div>\n",
       "<style scoped>\n",
       "    .dataframe tbody tr th:only-of-type {\n",
       "        vertical-align: middle;\n",
       "    }\n",
       "\n",
       "    .dataframe tbody tr th {\n",
       "        vertical-align: top;\n",
       "    }\n",
       "\n",
       "    .dataframe thead th {\n",
       "        text-align: right;\n",
       "    }\n",
       "</style>\n",
       "<table border=\"1\" class=\"dataframe\">\n",
       "  <thead>\n",
       "    <tr style=\"text-align: right;\">\n",
       "      <th></th>\n",
       "      <th>RecID</th>\n",
       "      <th>InstAbbr</th>\n",
       "      <th>InstName</th>\n",
       "      <th>InstPlace</th>\n",
       "      <th>InstLand</th>\n",
       "      <th>NumberEntry</th>\n",
       "      <th>NameArchiveSet</th>\n",
       "      <th>ArchivePart</th>\n",
       "      <th>Specification</th>\n",
       "      <th>LogbookIdent</th>\n",
       "      <th>...</th>\n",
       "      <th>Biology</th>\n",
       "      <th>BiologyMemo</th>\n",
       "      <th>WarsAndFights</th>\n",
       "      <th>WarsAndFightsMemo</th>\n",
       "      <th>Illustrations</th>\n",
       "      <th>TrivialCorrection</th>\n",
       "      <th>OtherRem</th>\n",
       "      <th>ID</th>\n",
       "      <th>Duplicate_y</th>\n",
       "      <th>_merge</th>\n",
       "    </tr>\n",
       "  </thead>\n",
       "  <tbody>\n",
       "    <tr>\n",
       "      <td>0</td>\n",
       "      <td>108</td>\n",
       "      <td>MNM</td>\n",
       "      <td>Archivo Museo Naval Madrid</td>\n",
       "      <td>Madrid</td>\n",
       "      <td>Spain</td>\n",
       "      <td>NaN</td>\n",
       "      <td>NaN</td>\n",
       "      <td>NaN</td>\n",
       "      <td>NaN</td>\n",
       "      <td>MS. 271, doc 15</td>\n",
       "      <td>...</td>\n",
       "      <td>0</td>\n",
       "      <td>NaN</td>\n",
       "      <td>0</td>\n",
       "      <td>NaN</td>\n",
       "      <td>0</td>\n",
       "      <td>0</td>\n",
       "      <td>LA FRAGATA BRETAÑA, DESPUES DE HABER CORRIDO U...</td>\n",
       "      <td>936.0</td>\n",
       "      <td>0.0</td>\n",
       "      <td>both</td>\n",
       "    </tr>\n",
       "    <tr>\n",
       "      <td>1</td>\n",
       "      <td>109</td>\n",
       "      <td>MNM</td>\n",
       "      <td>Archivo Museo Naval Madrid</td>\n",
       "      <td>Madrid</td>\n",
       "      <td>Spain</td>\n",
       "      <td>NaN</td>\n",
       "      <td>NaN</td>\n",
       "      <td>NaN</td>\n",
       "      <td>NaN</td>\n",
       "      <td>MS. 271, doc 16</td>\n",
       "      <td>...</td>\n",
       "      <td>0</td>\n",
       "      <td>NaN</td>\n",
       "      <td>0</td>\n",
       "      <td>NaN</td>\n",
       "      <td>0</td>\n",
       "      <td>0</td>\n",
       "      <td>TODOS FONDEADOS SE DEDICAN A PONER UNA BATERIA...</td>\n",
       "      <td>1446.0</td>\n",
       "      <td>0.0</td>\n",
       "      <td>both</td>\n",
       "    </tr>\n",
       "    <tr>\n",
       "      <td>2</td>\n",
       "      <td>110</td>\n",
       "      <td>MNM</td>\n",
       "      <td>Archivo Museo Naval Madrid</td>\n",
       "      <td>Madrid</td>\n",
       "      <td>Spain</td>\n",
       "      <td>NaN</td>\n",
       "      <td>NaN</td>\n",
       "      <td>NaN</td>\n",
       "      <td>NaN</td>\n",
       "      <td>MS. 271, doc 16</td>\n",
       "      <td>...</td>\n",
       "      <td>0</td>\n",
       "      <td>NaN</td>\n",
       "      <td>0</td>\n",
       "      <td>NaN</td>\n",
       "      <td>0</td>\n",
       "      <td>0</td>\n",
       "      <td>TODOS FONDEADOS SE DEDICAN A PONER UNA BATERIA...</td>\n",
       "      <td>1446.0</td>\n",
       "      <td>0.0</td>\n",
       "      <td>both</td>\n",
       "    </tr>\n",
       "    <tr>\n",
       "      <td>3</td>\n",
       "      <td>111</td>\n",
       "      <td>MNM</td>\n",
       "      <td>Archivo Museo Naval Madrid</td>\n",
       "      <td>Madrid</td>\n",
       "      <td>Spain</td>\n",
       "      <td>NaN</td>\n",
       "      <td>NaN</td>\n",
       "      <td>NaN</td>\n",
       "      <td>NaN</td>\n",
       "      <td>MS. 271, doc 16</td>\n",
       "      <td>...</td>\n",
       "      <td>0</td>\n",
       "      <td>NaN</td>\n",
       "      <td>0</td>\n",
       "      <td>NaN</td>\n",
       "      <td>0</td>\n",
       "      <td>0</td>\n",
       "      <td>TODOS FONDEADOS SE DEDICAN A PONER UNA BATERIA...</td>\n",
       "      <td>1446.0</td>\n",
       "      <td>0.0</td>\n",
       "      <td>both</td>\n",
       "    </tr>\n",
       "    <tr>\n",
       "      <td>4</td>\n",
       "      <td>112</td>\n",
       "      <td>MNM</td>\n",
       "      <td>Archivo Museo Naval Madrid</td>\n",
       "      <td>Madrid</td>\n",
       "      <td>Spain</td>\n",
       "      <td>NaN</td>\n",
       "      <td>NaN</td>\n",
       "      <td>NaN</td>\n",
       "      <td>NaN</td>\n",
       "      <td>MS. 271, doc 16</td>\n",
       "      <td>...</td>\n",
       "      <td>0</td>\n",
       "      <td>NaN</td>\n",
       "      <td>0</td>\n",
       "      <td>NaN</td>\n",
       "      <td>0</td>\n",
       "      <td>0</td>\n",
       "      <td>TODOS FONDEADOS SE DEDICAN A PONER UNA BATERIA...</td>\n",
       "      <td>1446.0</td>\n",
       "      <td>0.0</td>\n",
       "      <td>both</td>\n",
       "    </tr>\n",
       "  </tbody>\n",
       "</table>\n",
       "<p>5 rows × 144 columns</p>\n",
       "</div>"
      ],
      "text/plain": [
       "   RecID InstAbbr                    InstName InstPlace InstLand NumberEntry  \\\n",
       "0    108      MNM  Archivo Museo Naval Madrid    Madrid    Spain         NaN   \n",
       "1    109      MNM  Archivo Museo Naval Madrid    Madrid    Spain         NaN   \n",
       "2    110      MNM  Archivo Museo Naval Madrid    Madrid    Spain         NaN   \n",
       "3    111      MNM  Archivo Museo Naval Madrid    Madrid    Spain         NaN   \n",
       "4    112      MNM  Archivo Museo Naval Madrid    Madrid    Spain         NaN   \n",
       "\n",
       "  NameArchiveSet ArchivePart Specification     LogbookIdent  ... Biology  \\\n",
       "0            NaN         NaN           NaN  MS. 271, doc 15  ...       0   \n",
       "1            NaN         NaN           NaN  MS. 271, doc 16  ...       0   \n",
       "2            NaN         NaN           NaN  MS. 271, doc 16  ...       0   \n",
       "3            NaN         NaN           NaN  MS. 271, doc 16  ...       0   \n",
       "4            NaN         NaN           NaN  MS. 271, doc 16  ...       0   \n",
       "\n",
       "  BiologyMemo  WarsAndFights WarsAndFightsMemo Illustrations  \\\n",
       "0         NaN              0               NaN             0   \n",
       "1         NaN              0               NaN             0   \n",
       "2         NaN              0               NaN             0   \n",
       "3         NaN              0               NaN             0   \n",
       "4         NaN              0               NaN             0   \n",
       "\n",
       "  TrivialCorrection                                           OtherRem  \\\n",
       "0                 0  LA FRAGATA BRETAÑA, DESPUES DE HABER CORRIDO U...   \n",
       "1                 0  TODOS FONDEADOS SE DEDICAN A PONER UNA BATERIA...   \n",
       "2                 0  TODOS FONDEADOS SE DEDICAN A PONER UNA BATERIA...   \n",
       "3                 0  TODOS FONDEADOS SE DEDICAN A PONER UNA BATERIA...   \n",
       "4                 0  TODOS FONDEADOS SE DEDICAN A PONER UNA BATERIA...   \n",
       "\n",
       "       ID Duplicate_y _merge  \n",
       "0   936.0         0.0   both  \n",
       "1  1446.0         0.0   both  \n",
       "2  1446.0         0.0   both  \n",
       "3  1446.0         0.0   both  \n",
       "4  1446.0         0.0   both  \n",
       "\n",
       "[5 rows x 144 columns]"
      ]
     },
     "execution_count": 31,
     "metadata": {},
     "output_type": "execute_result"
    }
   ],
   "source": [
    "# output the new dataframe\n",
    "joined_set.head()"
   ]
  },
  {
   "cell_type": "code",
   "execution_count": 29,
   "metadata": {},
   "outputs": [
    {
     "data": {
      "text/plain": [
       "pandas.core.frame.DataFrame"
      ]
     },
     "execution_count": 29,
     "metadata": {},
     "output_type": "execute_result"
    }
   ],
   "source": [
    "joined_set.drop_duplicates(subset=['ShipName'], keep='first', inplace=True)"
   ]
  }
 ],
 "metadata": {
  "kernelspec": {
   "display_name": "Python 3",
   "language": "python",
   "name": "python3"
  },
  "language_info": {
   "codemirror_mode": {
    "name": "ipython",
    "version": 3
   },
   "file_extension": ".py",
   "mimetype": "text/x-python",
   "name": "python",
   "nbconvert_exporter": "python",
   "pygments_lexer": "ipython3",
   "version": "3.7.4"
  }
 },
 "nbformat": 4,
 "nbformat_minor": 2
}
